{
 "cells": [
  {
   "cell_type": "markdown",
   "source": [
    "# Logbook\n",
    "\n",
    "This notebook serves as reference for tests and history.\n",
    "\n",
    "## Tests (MUTAG DATASET)\n",
    "SOM scores 95% on training and 83% on Validation/Test\n",
    "### Test (1)\n",
    "First basic GTM Implementation.\n",
    "\n",
    "## Questions\n",
    "- use node attribute?\n",
    "-\n"
   ],
   "metadata": {
    "collapsed": false,
    "pycharm": {
     "name": "#%% md\n"
    }
   }
  }
 ],
 "metadata": {
  "kernelspec": {
   "display_name": "Python 3",
   "language": "python",
   "name": "python3"
  },
  "language_info": {
   "codemirror_mode": {
    "name": "ipython",
    "version": 2
   },
   "file_extension": ".py",
   "mimetype": "text/x-python",
   "name": "python",
   "nbconvert_exporter": "python",
   "pygments_lexer": "ipython2",
   "version": "2.7.6"
  }
 },
 "nbformat": 4,
 "nbformat_minor": 0
}